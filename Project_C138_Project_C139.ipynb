{
  "nbformat": 4,
  "nbformat_minor": 0,
  "metadata": {
    "colab": {
      "provenance": [],
      "authorship_tag": "ABX9TyPWKoW1T1iSAIykxIlQARRH",
      "include_colab_link": true
    },
    "kernelspec": {
      "name": "python3",
      "display_name": "Python 3"
    },
    "language_info": {
      "name": "python"
    }
  },
  "cells": [
    {
      "cell_type": "markdown",
      "metadata": {
        "id": "view-in-github",
        "colab_type": "text"
      },
      "source": [
        "<a href=\"https://colab.research.google.com/github/chessterfries/project-c139/blob/main/Project_C138_Project_C139.ipynb\" target=\"_parent\"><img src=\"https://colab.research.google.com/assets/colab-badge.svg\" alt=\"Open In Colab\"/></a>"
      ]
    },
    {
      "cell_type": "code",
      "execution_count": 2,
      "metadata": {
        "id": "s2MNJYOVEtO4",
        "colab": {
          "base_uri": "https://localhost:8080/"
        },
        "outputId": "455a2c0f-d9d2-4fb3-da9f-bf54ce0c444d"
      },
      "outputs": [
        {
          "output_type": "stream",
          "name": "stdout",
          "text": [
            "Looking in indexes: https://pypi.org/simple, https://us-python.pkg.dev/colab-wheels/public/simple/\n",
            "Requirement already satisfied: kaggle in /usr/local/lib/python3.7/dist-packages (1.5.12)\n",
            "Requirement already satisfied: requests in /usr/local/lib/python3.7/dist-packages (from kaggle) (2.23.0)\n",
            "Requirement already satisfied: six>=1.10 in /usr/local/lib/python3.7/dist-packages (from kaggle) (1.15.0)\n",
            "Requirement already satisfied: python-slugify in /usr/local/lib/python3.7/dist-packages (from kaggle) (6.1.2)\n",
            "Requirement already satisfied: tqdm in /usr/local/lib/python3.7/dist-packages (from kaggle) (4.64.1)\n",
            "Requirement already satisfied: certifi in /usr/local/lib/python3.7/dist-packages (from kaggle) (2022.9.24)\n",
            "Requirement already satisfied: python-dateutil in /usr/local/lib/python3.7/dist-packages (from kaggle) (2.8.2)\n",
            "Requirement already satisfied: urllib3 in /usr/local/lib/python3.7/dist-packages (from kaggle) (1.24.3)\n",
            "Requirement already satisfied: text-unidecode>=1.3 in /usr/local/lib/python3.7/dist-packages (from python-slugify->kaggle) (1.3)\n",
            "Requirement already satisfied: idna<3,>=2.5 in /usr/local/lib/python3.7/dist-packages (from requests->kaggle) (2.10)\n",
            "Requirement already satisfied: chardet<4,>=3.0.2 in /usr/local/lib/python3.7/dist-packages (from requests->kaggle) (3.0.4)\n"
          ]
        }
      ],
      "source": [
        "!pip install kaggle"
      ]
    },
    {
      "cell_type": "code",
      "source": [
        "from google.colab import files\n",
        "files.upload()"
      ],
      "metadata": {
        "colab": {
          "base_uri": "https://localhost:8080/",
          "height": 90
        },
        "id": "ynEUdn6TE42w",
        "outputId": "4abba0d6-65d3-445e-9cc1-259ccab4500f"
      },
      "execution_count": 3,
      "outputs": [
        {
          "output_type": "display_data",
          "data": {
            "text/plain": [
              "<IPython.core.display.HTML object>"
            ],
            "text/html": [
              "\n",
              "     <input type=\"file\" id=\"files-f565cf80-dac9-4370-9c76-b8d31bc20bb7\" name=\"files[]\" multiple disabled\n",
              "        style=\"border:none\" />\n",
              "     <output id=\"result-f565cf80-dac9-4370-9c76-b8d31bc20bb7\">\n",
              "      Upload widget is only available when the cell has been executed in the\n",
              "      current browser session. Please rerun this cell to enable.\n",
              "      </output>\n",
              "      <script>// Copyright 2017 Google LLC\n",
              "//\n",
              "// Licensed under the Apache License, Version 2.0 (the \"License\");\n",
              "// you may not use this file except in compliance with the License.\n",
              "// You may obtain a copy of the License at\n",
              "//\n",
              "//      http://www.apache.org/licenses/LICENSE-2.0\n",
              "//\n",
              "// Unless required by applicable law or agreed to in writing, software\n",
              "// distributed under the License is distributed on an \"AS IS\" BASIS,\n",
              "// WITHOUT WARRANTIES OR CONDITIONS OF ANY KIND, either express or implied.\n",
              "// See the License for the specific language governing permissions and\n",
              "// limitations under the License.\n",
              "\n",
              "/**\n",
              " * @fileoverview Helpers for google.colab Python module.\n",
              " */\n",
              "(function(scope) {\n",
              "function span(text, styleAttributes = {}) {\n",
              "  const element = document.createElement('span');\n",
              "  element.textContent = text;\n",
              "  for (const key of Object.keys(styleAttributes)) {\n",
              "    element.style[key] = styleAttributes[key];\n",
              "  }\n",
              "  return element;\n",
              "}\n",
              "\n",
              "// Max number of bytes which will be uploaded at a time.\n",
              "const MAX_PAYLOAD_SIZE = 100 * 1024;\n",
              "\n",
              "function _uploadFiles(inputId, outputId) {\n",
              "  const steps = uploadFilesStep(inputId, outputId);\n",
              "  const outputElement = document.getElementById(outputId);\n",
              "  // Cache steps on the outputElement to make it available for the next call\n",
              "  // to uploadFilesContinue from Python.\n",
              "  outputElement.steps = steps;\n",
              "\n",
              "  return _uploadFilesContinue(outputId);\n",
              "}\n",
              "\n",
              "// This is roughly an async generator (not supported in the browser yet),\n",
              "// where there are multiple asynchronous steps and the Python side is going\n",
              "// to poll for completion of each step.\n",
              "// This uses a Promise to block the python side on completion of each step,\n",
              "// then passes the result of the previous step as the input to the next step.\n",
              "function _uploadFilesContinue(outputId) {\n",
              "  const outputElement = document.getElementById(outputId);\n",
              "  const steps = outputElement.steps;\n",
              "\n",
              "  const next = steps.next(outputElement.lastPromiseValue);\n",
              "  return Promise.resolve(next.value.promise).then((value) => {\n",
              "    // Cache the last promise value to make it available to the next\n",
              "    // step of the generator.\n",
              "    outputElement.lastPromiseValue = value;\n",
              "    return next.value.response;\n",
              "  });\n",
              "}\n",
              "\n",
              "/**\n",
              " * Generator function which is called between each async step of the upload\n",
              " * process.\n",
              " * @param {string} inputId Element ID of the input file picker element.\n",
              " * @param {string} outputId Element ID of the output display.\n",
              " * @return {!Iterable<!Object>} Iterable of next steps.\n",
              " */\n",
              "function* uploadFilesStep(inputId, outputId) {\n",
              "  const inputElement = document.getElementById(inputId);\n",
              "  inputElement.disabled = false;\n",
              "\n",
              "  const outputElement = document.getElementById(outputId);\n",
              "  outputElement.innerHTML = '';\n",
              "\n",
              "  const pickedPromise = new Promise((resolve) => {\n",
              "    inputElement.addEventListener('change', (e) => {\n",
              "      resolve(e.target.files);\n",
              "    });\n",
              "  });\n",
              "\n",
              "  const cancel = document.createElement('button');\n",
              "  inputElement.parentElement.appendChild(cancel);\n",
              "  cancel.textContent = 'Cancel upload';\n",
              "  const cancelPromise = new Promise((resolve) => {\n",
              "    cancel.onclick = () => {\n",
              "      resolve(null);\n",
              "    };\n",
              "  });\n",
              "\n",
              "  // Wait for the user to pick the files.\n",
              "  const files = yield {\n",
              "    promise: Promise.race([pickedPromise, cancelPromise]),\n",
              "    response: {\n",
              "      action: 'starting',\n",
              "    }\n",
              "  };\n",
              "\n",
              "  cancel.remove();\n",
              "\n",
              "  // Disable the input element since further picks are not allowed.\n",
              "  inputElement.disabled = true;\n",
              "\n",
              "  if (!files) {\n",
              "    return {\n",
              "      response: {\n",
              "        action: 'complete',\n",
              "      }\n",
              "    };\n",
              "  }\n",
              "\n",
              "  for (const file of files) {\n",
              "    const li = document.createElement('li');\n",
              "    li.append(span(file.name, {fontWeight: 'bold'}));\n",
              "    li.append(span(\n",
              "        `(${file.type || 'n/a'}) - ${file.size} bytes, ` +\n",
              "        `last modified: ${\n",
              "            file.lastModifiedDate ? file.lastModifiedDate.toLocaleDateString() :\n",
              "                                    'n/a'} - `));\n",
              "    const percent = span('0% done');\n",
              "    li.appendChild(percent);\n",
              "\n",
              "    outputElement.appendChild(li);\n",
              "\n",
              "    const fileDataPromise = new Promise((resolve) => {\n",
              "      const reader = new FileReader();\n",
              "      reader.onload = (e) => {\n",
              "        resolve(e.target.result);\n",
              "      };\n",
              "      reader.readAsArrayBuffer(file);\n",
              "    });\n",
              "    // Wait for the data to be ready.\n",
              "    let fileData = yield {\n",
              "      promise: fileDataPromise,\n",
              "      response: {\n",
              "        action: 'continue',\n",
              "      }\n",
              "    };\n",
              "\n",
              "    // Use a chunked sending to avoid message size limits. See b/62115660.\n",
              "    let position = 0;\n",
              "    do {\n",
              "      const length = Math.min(fileData.byteLength - position, MAX_PAYLOAD_SIZE);\n",
              "      const chunk = new Uint8Array(fileData, position, length);\n",
              "      position += length;\n",
              "\n",
              "      const base64 = btoa(String.fromCharCode.apply(null, chunk));\n",
              "      yield {\n",
              "        response: {\n",
              "          action: 'append',\n",
              "          file: file.name,\n",
              "          data: base64,\n",
              "        },\n",
              "      };\n",
              "\n",
              "      let percentDone = fileData.byteLength === 0 ?\n",
              "          100 :\n",
              "          Math.round((position / fileData.byteLength) * 100);\n",
              "      percent.textContent = `${percentDone}% done`;\n",
              "\n",
              "    } while (position < fileData.byteLength);\n",
              "  }\n",
              "\n",
              "  // All done.\n",
              "  yield {\n",
              "    response: {\n",
              "      action: 'complete',\n",
              "    }\n",
              "  };\n",
              "}\n",
              "\n",
              "scope.google = scope.google || {};\n",
              "scope.google.colab = scope.google.colab || {};\n",
              "scope.google.colab._files = {\n",
              "  _uploadFiles,\n",
              "  _uploadFilesContinue,\n",
              "};\n",
              "})(self);\n",
              "</script> "
            ]
          },
          "metadata": {}
        },
        {
          "output_type": "stream",
          "name": "stdout",
          "text": [
            "Saving kaggle.json to kaggle.json\n"
          ]
        },
        {
          "output_type": "execute_result",
          "data": {
            "text/plain": [
              "{'kaggle.json': b'{\"username\":\"asachdev123\",\"key\":\"4c329a7c484264602079c6d7f0308237\"}'}"
            ]
          },
          "metadata": {},
          "execution_count": 3
        }
      ]
    },
    {
      "cell_type": "code",
      "source": [
        "!mkdir -p ~/.kaggle\n",
        "!cp kaggle.json ~/.kaggle/\n",
        "!chmod 600 ~/.kaggle/kaggle.json"
      ],
      "metadata": {
        "id": "IWmKPOjXFm0A"
      },
      "execution_count": 4,
      "outputs": []
    },
    {
      "cell_type": "code",
      "source": [
        "!kaggle datasets download -d gspmoreira/articles-sharing-reading-from-cit-deskdrop"
      ],
      "metadata": {
        "colab": {
          "base_uri": "https://localhost:8080/"
        },
        "id": "OqqtWa6cF-zD",
        "outputId": "2f759a30-824b-4603-9cc8-95b40f80b350"
      },
      "execution_count": 5,
      "outputs": [
        {
          "output_type": "stream",
          "name": "stdout",
          "text": [
            "Downloading articles-sharing-reading-from-cit-deskdrop.zip to /content\n",
            "\r  0% 0.00/8.20M [00:00<?, ?B/s]\r 61% 5.00M/8.20M [00:00<00:00, 28.9MB/s]\n",
            "\r100% 8.20M/8.20M [00:00<00:00, 41.9MB/s]\n"
          ]
        }
      ]
    },
    {
      "cell_type": "code",
      "source": [
        "!ls"
      ],
      "metadata": {
        "colab": {
          "base_uri": "https://localhost:8080/"
        },
        "id": "cTVOYPDmGhuC",
        "outputId": "e180a5d9-a07d-4c9d-c541-c3759c4d1912"
      },
      "execution_count": 6,
      "outputs": [
        {
          "output_type": "stream",
          "name": "stdout",
          "text": [
            "articles-sharing-reading-from-cit-deskdrop.zip\tkaggle.json  sample_data\n"
          ]
        }
      ]
    },
    {
      "cell_type": "code",
      "source": [
        "!unzip articles-sharing-reading-from-cit-deskdrop.zip"
      ],
      "metadata": {
        "colab": {
          "base_uri": "https://localhost:8080/"
        },
        "id": "fg-tNVXmGjx8",
        "outputId": "49585c6f-caff-4966-cb77-efb7934f9557"
      },
      "execution_count": 7,
      "outputs": [
        {
          "output_type": "stream",
          "name": "stdout",
          "text": [
            "Archive:  articles-sharing-reading-from-cit-deskdrop.zip\n",
            "  inflating: shared_articles.csv     \n",
            "  inflating: users_interactions.csv  \n"
          ]
        }
      ]
    },
    {
      "cell_type": "code",
      "source": [
        "!ls"
      ],
      "metadata": {
        "id": "p15c7vFvG3IT",
        "outputId": "33cf0cc1-17b8-4635-f288-df2b4d776621",
        "colab": {
          "base_uri": "https://localhost:8080/"
        }
      },
      "execution_count": 8,
      "outputs": [
        {
          "output_type": "stream",
          "name": "stdout",
          "text": [
            "articles-sharing-reading-from-cit-deskdrop.zip\tshared_articles.csv\n",
            "kaggle.json\t\t\t\t\tusers_interactions.csv\n",
            "sample_data\n"
          ]
        }
      ]
    },
    {
      "cell_type": "code",
      "source": [
        "import pandas as pd\n",
        "\n",
        "df1 = pd.read_csv(\"shared_articles.csv\")\n",
        "df2 = pd.read_csv(\"users_interactions.csv\")\n",
        "\n",
        "print(df1.head())\n",
        "print(df2.head())"
      ],
      "metadata": {
        "colab": {
          "base_uri": "https://localhost:8080/"
        },
        "id": "IMSQWmBIduq-",
        "outputId": "ea7ad3d1-5260-4689-aa99-03c75ae1ddfc"
      },
      "execution_count": 34,
      "outputs": [
        {
          "output_type": "stream",
          "name": "stdout",
          "text": [
            "    timestamp        eventType            contentId       authorPersonId  \\\n",
            "0  1459192779  CONTENT REMOVED -6451309518266745024  4340306774493623681   \n",
            "1  1459193988   CONTENT SHARED -4110354420726924665  4340306774493623681   \n",
            "2  1459194146   CONTENT SHARED -7292285110016212249  4340306774493623681   \n",
            "3  1459194474   CONTENT SHARED -6151852268067518688  3891637997717104548   \n",
            "4  1459194497   CONTENT SHARED  2448026894306402386  4340306774493623681   \n",
            "\n",
            "       authorSessionId authorUserAgent authorRegion authorCountry contentType  \\\n",
            "0  8940341205206233829             NaN          NaN           NaN        HTML   \n",
            "1  8940341205206233829             NaN          NaN           NaN        HTML   \n",
            "2  8940341205206233829             NaN          NaN           NaN        HTML   \n",
            "3 -1457532940883382585             NaN          NaN           NaN        HTML   \n",
            "4  8940341205206233829             NaN          NaN           NaN        HTML   \n",
            "\n",
            "                                                 url  \\\n",
            "0  http://www.nytimes.com/2016/03/28/business/dea...   \n",
            "1  http://www.nytimes.com/2016/03/28/business/dea...   \n",
            "2  http://cointelegraph.com/news/bitcoin-future-w...   \n",
            "3  https://cloudplatform.googleblog.com/2016/03/G...   \n",
            "4  https://bitcoinmagazine.com/articles/ibm-wants...   \n",
            "\n",
            "                                               title  \\\n",
            "0  Ethereum, a Virtual Currency, Enables Transact...   \n",
            "1  Ethereum, a Virtual Currency, Enables Transact...   \n",
            "2  Bitcoin Future: When GBPcoin of Branson Wins O...   \n",
            "3                       Google Data Center 360° Tour   \n",
            "4  IBM Wants to \"Evolve the Internet\" With Blockc...   \n",
            "\n",
            "                                                text lang  \n",
            "0  All of this work is still very early. The firs...   en  \n",
            "1  All of this work is still very early. The firs...   en  \n",
            "2  The alarm clock wakes me at 8:00 with stream o...   en  \n",
            "3  We're excited to share the Google Data Center ...   en  \n",
            "4  The Aite Group projects the blockchain market ...   en  \n",
            "    timestamp eventType            contentId             personId  \\\n",
            "0  1465413032      VIEW -3499919498720038879 -8845298781299428018   \n",
            "1  1465412560      VIEW  8890720798209849691 -1032019229384696495   \n",
            "2  1465416190      VIEW   310515487419366995 -1130272294246983140   \n",
            "3  1465413895    FOLLOW   310515487419366995   344280948527967603   \n",
            "4  1465412290      VIEW -7820640624231356730  -445337111692715325   \n",
            "\n",
            "             sessionId                                          userAgent  \\\n",
            "0  1264196770339959068                                                NaN   \n",
            "1  3621737643587579081  Mozilla/5.0 (Macintosh; Intel Mac OS X 10_11_2...   \n",
            "2  2631864456530402479                                                NaN   \n",
            "3 -3167637573980064150                                                NaN   \n",
            "4  5611481178424124714                                                NaN   \n",
            "\n",
            "  userRegion userCountry  \n",
            "0        NaN         NaN  \n",
            "1         NY          US  \n",
            "2        NaN         NaN  \n",
            "3        NaN         NaN  \n",
            "4        NaN         NaN  \n"
          ]
        }
      ]
    },
    {
      "cell_type": "code",
      "source": [
        "df1 = df1[df1.eventType != \"CONTENT REMOVED\"]\n",
        "print(df1.head())"
      ],
      "metadata": {
        "colab": {
          "base_uri": "https://localhost:8080/"
        },
        "id": "ChswkqHubXJJ",
        "outputId": "ab3f4a09-2011-4461-cede-d53999a24c61"
      },
      "execution_count": 10,
      "outputs": [
        {
          "output_type": "stream",
          "name": "stdout",
          "text": [
            "    timestamp       eventType            contentId       authorPersonId  \\\n",
            "1  1459193988  CONTENT SHARED -4110354420726924665  4340306774493623681   \n",
            "2  1459194146  CONTENT SHARED -7292285110016212249  4340306774493623681   \n",
            "3  1459194474  CONTENT SHARED -6151852268067518688  3891637997717104548   \n",
            "4  1459194497  CONTENT SHARED  2448026894306402386  4340306774493623681   \n",
            "5  1459194522  CONTENT SHARED -2826566343807132236  4340306774493623681   \n",
            "\n",
            "       authorSessionId authorUserAgent authorRegion authorCountry contentType  \\\n",
            "1  8940341205206233829             NaN          NaN           NaN        HTML   \n",
            "2  8940341205206233829             NaN          NaN           NaN        HTML   \n",
            "3 -1457532940883382585             NaN          NaN           NaN        HTML   \n",
            "4  8940341205206233829             NaN          NaN           NaN        HTML   \n",
            "5  8940341205206233829             NaN          NaN           NaN        HTML   \n",
            "\n",
            "                                                 url  \\\n",
            "1  http://www.nytimes.com/2016/03/28/business/dea...   \n",
            "2  http://cointelegraph.com/news/bitcoin-future-w...   \n",
            "3  https://cloudplatform.googleblog.com/2016/03/G...   \n",
            "4  https://bitcoinmagazine.com/articles/ibm-wants...   \n",
            "5  http://www.coindesk.com/ieee-blockchain-oxford...   \n",
            "\n",
            "                                               title  \\\n",
            "1  Ethereum, a Virtual Currency, Enables Transact...   \n",
            "2  Bitcoin Future: When GBPcoin of Branson Wins O...   \n",
            "3                       Google Data Center 360° Tour   \n",
            "4  IBM Wants to \"Evolve the Internet\" With Blockc...   \n",
            "5  IEEE to Talk Blockchain at Cloud Computing Oxf...   \n",
            "\n",
            "                                                text lang  \n",
            "1  All of this work is still very early. The firs...   en  \n",
            "2  The alarm clock wakes me at 8:00 with stream o...   en  \n",
            "3  We're excited to share the Google Data Center ...   en  \n",
            "4  The Aite Group projects the blockchain market ...   en  \n",
            "5  One of the largest and oldest organizations fo...   en  \n"
          ]
        }
      ]
    },
    {
      "cell_type": "code",
      "source": [
        "total_views = len(df2[df2.eventType == \"VIEW\"])\n",
        "print(total_views)"
      ],
      "metadata": {
        "colab": {
          "base_uri": "https://localhost:8080/"
        },
        "id": "dijPND5vlLfH",
        "outputId": "4d365d69-6dfc-4711-c084-5e9c09c7489a"
      },
      "execution_count": 11,
      "outputs": [
        {
          "output_type": "stream",
          "name": "stdout",
          "text": [
            "61086\n"
          ]
        }
      ]
    },
    {
      "cell_type": "code",
      "source": [
        "total_follows = len(df2[df2.eventType == \"FOLLOW\"])\n",
        "print(total_follows)"
      ],
      "metadata": {
        "id": "S64QRfvzr-hD",
        "colab": {
          "base_uri": "https://localhost:8080/"
        },
        "outputId": "d4fa0496-90c7-415a-e68e-f511dad25d72"
      },
      "execution_count": 19,
      "outputs": [
        {
          "output_type": "stream",
          "name": "stdout",
          "text": [
            "1407\n"
          ]
        }
      ]
    },
    {
      "cell_type": "code",
      "source": [
        "total_likes = len(df2[df2.eventType == \"LIKE\"])\n",
        "print(total_likes)"
      ],
      "metadata": {
        "colab": {
          "base_uri": "https://localhost:8080/"
        },
        "id": "JbUl-Axv4iW9",
        "outputId": "e9f5f615-480a-4b9e-d60c-1a31e607cb85"
      },
      "execution_count": 20,
      "outputs": [
        {
          "output_type": "stream",
          "name": "stdout",
          "text": [
            "5745\n"
          ]
        }
      ]
    },
    {
      "cell_type": "code",
      "source": [
        "total_bookmarks = len(df2[df2.eventType == \"BOOKMARK\"])\n",
        "print(total_bookmarks)"
      ],
      "metadata": {
        "colab": {
          "base_uri": "https://localhost:8080/"
        },
        "id": "MdsiBGfF4opy",
        "outputId": "81a3d79d-0b27-45a6-935c-fb033e5e49fa"
      },
      "execution_count": 21,
      "outputs": [
        {
          "output_type": "stream",
          "name": "stdout",
          "text": [
            "2463\n"
          ]
        }
      ]
    },
    {
      "cell_type": "code",
      "source": [
        "total_comments = len(df2[df2.eventType == \"COMMENT\"])\n",
        "print(total_comments)"
      ],
      "metadata": {
        "colab": {
          "base_uri": "https://localhost:8080/"
        },
        "id": "o2puYyRH4uFS",
        "outputId": "7b8a385e-0e5a-421c-9ea3-0e67bb2d357d"
      },
      "execution_count": 25,
      "outputs": [
        {
          "output_type": "stream",
          "name": "stdout",
          "text": [
            "0\n"
          ]
        }
      ]
    },
    {
      "cell_type": "code",
      "source": [
        "sum = total_views + total_follows + total_likes + total_bookmarks + total_comments\n",
        "print(sum)"
      ],
      "metadata": {
        "colab": {
          "base_uri": "https://localhost:8080/"
        },
        "id": "JgdazWBx6V9R",
        "outputId": "00b8d168-603c-482d-8931-e34dbd13be75"
      },
      "execution_count": 38,
      "outputs": [
        {
          "output_type": "stream",
          "name": "stdout",
          "text": [
            "70701\n"
          ]
        }
      ]
    }
  ]
}